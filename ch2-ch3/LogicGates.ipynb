{
 "cells": [
  {
   "cell_type": "code",
   "execution_count": 4,
   "metadata": {},
   "outputs": [
    {
     "name": "stdout",
     "output_type": "stream",
     "text": [
      "[0, 0] 0\n",
      "[0, 1] 1\n",
      "[1, 0] 1\n",
      "[1, 1] 0\n"
     ]
    }
   ],
   "source": [
    "import numpy as np\n",
    "from numpy import array\n",
    "\n",
    "def AND (x):\n",
    "    w = [0.5,0.5]\n",
    "    w = array(w)\n",
    "    b = -0.7\n",
    "    if (np.sum(w*x) + b) > 0:\n",
    "        return 1\n",
    "    else:\n",
    "        return 0 \n",
    "\n",
    "def NAND(x):\n",
    "    return 1-AND(x)\n",
    "\n",
    "def OR(x):\n",
    "    w = [0.5,0.5]\n",
    "    w = array(w)\n",
    "    b = -0.2\n",
    "    if (np.sum(w*x) + b) > 0:\n",
    "        return 1\n",
    "    else:\n",
    "        return 0 \n",
    "\n",
    "def XOR(x):\n",
    "    return AND([NAND(x),OR(x)])\n",
    "\n",
    "def test(Func):\n",
    "    for i in range(2):\n",
    "        for j in range(2):\n",
    "            print([i,j],Func([i,j]))\n",
    "\n",
    "test(XOR)"
   ]
  }
 ],
 "metadata": {
  "kernelspec": {
   "display_name": "base",
   "language": "python",
   "name": "python3"
  },
  "language_info": {
   "codemirror_mode": {
    "name": "ipython",
    "version": 3
   },
   "file_extension": ".py",
   "mimetype": "text/x-python",
   "name": "python",
   "nbconvert_exporter": "python",
   "pygments_lexer": "ipython3",
   "version": "3.12.4"
  }
 },
 "nbformat": 4,
 "nbformat_minor": 2
}
