{
 "cells": [
  {
   "cell_type": "code",
   "execution_count": null,
   "metadata": {},
   "outputs": [
    {
     "name": "stdout",
     "output_type": "stream",
     "text": [
      "..\n",
      "[[ 0.02237472 -0.11432729 -1.08018027 -0.6278428 ]\n",
      " [-0.26418598 -1.24576166 -0.0815577   0.10285879]\n",
      " [-1.72355795 -1.74204141 -0.33027124  0.3218475 ]\n",
      " [-0.29209782  1.967935   -1.8049533  -0.03896993]\n",
      " [-1.21290966  2.42082895 -0.61033071  0.17751608]\n",
      " [ 2.5653752   0.35985143 -0.8904237   0.21484749]\n",
      " [ 2.42263852  0.72088539  0.01346993 -0.68318692]\n",
      " [-0.25984989  1.41612212  0.93930059  1.48849413]\n",
      " [-1.14424263  2.2232347  -0.41287021 -0.29829725]\n",
      " [-0.51609234 -0.58310758 -1.27198776 -1.6643528 ]]\n",
      "[[ 0.02237472 -0.11432729 -1.08018027 -0.6278428 ]\n",
      " [-0.26418598 -1.24576166 -0.0815577   0.10285879]]\n"
     ]
    }
   ],
   "source": [
    "import numpy as np"
   ]
  }
 ],
 "metadata": {
  "kernelspec": {
   "display_name": "DL",
   "language": "python",
   "name": "python3"
  },
  "language_info": {
   "codemirror_mode": {
    "name": "ipython",
    "version": 3
   },
   "file_extension": ".py",
   "mimetype": "text/x-python",
   "name": "python",
   "nbconvert_exporter": "python",
   "pygments_lexer": "ipython3",
   "version": "3.10.15"
  }
 },
 "nbformat": 4,
 "nbformat_minor": 2
}
