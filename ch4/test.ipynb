{
 "cells": [
  {
   "cell_type": "code",
   "execution_count": 1,
   "metadata": {},
   "outputs": [
    {
     "name": "stdout",
     "output_type": "stream",
     "text": [
      "[1 2]\n",
      "[2 2]\n"
     ]
    }
   ],
   "source": [
    "import numpy as np\n",
    "\n",
    "def numerical_diff(f,x):\n",
    "    '''\n",
    "    :param f: Function\n",
    "    :param x: the point where you need to diff\n",
    "    \n",
    "    '''\n",
    "    h = 1e-4\n",
    "    return (f(x+h)-f(x-h))/(2*h)\n",
    "\n",
    "def func1(x):\n",
    "    return x[0]**2+x[1]**2\n",
    "\n",
    "x = np.linspace(-5,5,100)\n",
    "# 生成2维网格，meshgrid相当于做笛卡尔积。\n",
    "# 返回的是网格上点的坐标信息（二维矩阵天然的指示了点的顺序，里面存储的是点的X和Y坐标）\n",
    "space = np.meshgrid(x,x)\n",
    "X,Y = np.meshgrid(x,x)\n",
    "z = func1(space)\n",
    "\n",
    "# 3D绘图暂时不会\n",
    "\n",
    "a = np.array([1,2])\n",
    "print(a)\n",
    "a[0] = 2\n",
    "print(a)\n"
   ]
  }
 ],
 "metadata": {
  "kernelspec": {
   "display_name": "base",
   "language": "python",
   "name": "python3"
  },
  "language_info": {
   "codemirror_mode": {
    "name": "ipython",
    "version": 3
   },
   "file_extension": ".py",
   "mimetype": "text/x-python",
   "name": "python",
   "nbconvert_exporter": "python",
   "pygments_lexer": "ipython3",
   "version": "3.12.4"
  }
 },
 "nbformat": 4,
 "nbformat_minor": 2
}
