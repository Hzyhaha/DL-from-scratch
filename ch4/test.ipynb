{
 "cells": [
  {
   "cell_type": "code",
   "execution_count": 10,
   "metadata": {},
   "outputs": [
    {
     "name": "stdout",
     "output_type": "stream",
     "text": [
      "0.09750000000000003\n",
      "0.510825457099338\n",
      "------------------------------------------------------------\n",
      "[[[0.1  0.05 0.6  0.   0.05 0.1  0.   0.1  0.   0.  ]]\n",
      "\n",
      " [[0.   0.05 0.8  0.   0.05 0.   0.   0.1  0.   0.  ]]]\n",
      "0.3669844417067778\n",
      "0.3669844417067778\n"
     ]
    }
   ],
   "source": [
    "import numpy as np\n",
    "from loss_func import *\n",
    "\n",
    "y = np.array([0.1, 0.05, 0.6, 0.0, 0.05, 0.1, 0.0, 0.1, 0.0, 0.0])\n",
    "t = np.array([0, 0, 1, 0, 0, 0, 0, 0, 0, 0])\n",
    "\n",
    "print(mean_squared_error(y,t))\n",
    "print(cross_entropy_error(y,t))\n",
    "print('-'*60)\n",
    "y2 = np.array([0.0, 0.05, 0.8, 0.0, 0.05, 0.0, 0.0, 0.1, 0.0, 0.0])\n",
    "Y = np.array([[y],[y2]])\n",
    "T = np.array([[t],[t]])\n",
    "print(Y)\n",
    "print(minibatch_cross_entropy_error(Y,T))\n",
    "print( (cross_entropy_error(y,t)+cross_entropy_error(y2,t))/2 )"
   ]
  }
 ],
 "metadata": {
  "kernelspec": {
   "display_name": "DL",
   "language": "python",
   "name": "python3"
  },
  "language_info": {
   "codemirror_mode": {
    "name": "ipython",
    "version": 3
   },
   "file_extension": ".py",
   "mimetype": "text/x-python",
   "name": "python",
   "nbconvert_exporter": "python",
   "pygments_lexer": "ipython3",
   "version": "3.9.20"
  }
 },
 "nbformat": 4,
 "nbformat_minor": 2
}
