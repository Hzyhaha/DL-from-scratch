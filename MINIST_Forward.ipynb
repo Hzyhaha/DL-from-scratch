{
 "cells": [
  {
   "cell_type": "code",
   "execution_count": 24,
   "metadata": {},
   "outputs": [
    {
     "data": {
      "text/plain": [
       "0.9357666666666666"
      ]
     },
     "execution_count": 24,
     "metadata": {},
     "output_type": "execute_result"
    }
   ],
   "source": [
    "import torch\n",
    "from torchvision import datasets\n",
    "from torchvision.transforms import ToTensor\n",
    "from torch.utils.data import DataLoader\n",
    "data = datasets.MNIST(\n",
    "    root='data',\n",
    "    train=True,\n",
    "    download=True,\n",
    "    transform=ToTensor()\n",
    ")\n",
    "\n",
    "\n",
    "data_loader = DataLoader(data)\n",
    "\n",
    "X = []\n",
    "Y = []\n",
    "for x,y in data_loader:\n",
    "    X.append(x.reshape(-1).detach().numpy())\n",
    "    Y.append(y.detach().numpy())\n",
    "\n",
    "import numpy as np\n",
    "\n",
    "X = np.array(X)\n",
    "Y = np.array(Y)\n",
    "\n",
    "sample = X[0]\n",
    "sample = sample.reshape(28,28)\n",
    "\n",
    "from PIL import Image\n",
    "def img_show(img): \n",
    "    pil_img = Image.fromarray(np.uint8(img)) \n",
    "    pil_img.show()\n",
    "\n",
    "#img_show(sample*255)\n",
    "# png格式不能展示0-1的图\n",
    "\n",
    "import pickle\n",
    "def init_network():\n",
    "    with open('sample_weight.pkl','rb') as f:\n",
    "        network = pickle.load(f)\n",
    "    return network\n",
    "\n",
    "\n",
    "def sigmoid(x):\n",
    "    return 1/(1+np.exp(-x))\n",
    "\n",
    "def softmax(x):\n",
    "    C = np.max(x)\n",
    "    return np.exp(x-C)/np.sum(np.exp(x-C))\n",
    "\n",
    "def forward(network,x):\n",
    "    W1,W2,W3 = network['W1'],network['W2'],network['W3']\n",
    "    b1,b2,b3 = network['b1'],network['b2'],network['b3']\n",
    "\n",
    "    z1 = sigmoid(x@W1 + b1) \n",
    "    z2 = sigmoid(z1@W2 + b2)\n",
    "    z3 = softmax(z2@W3 + b3) \n",
    "    return np.argmax(z3,axis=1)\n",
    "\n",
    "nn = init_network()\n",
    "Y_h = forward(nn,X)\n",
    "\n",
    "def accuracy_count(x1,x2):\n",
    "    cnt = 0\n",
    "    for i in range(len(x1)):\n",
    "        if x1[i] == x2[i]:\n",
    "            cnt+=1\n",
    "    return cnt/len(x1)\n",
    "\n",
    "accuracy_count(Y,Y_h)\n"
   ]
  }
 ],
 "metadata": {
  "kernelspec": {
   "display_name": "DL",
   "language": "python",
   "name": "python3"
  },
  "language_info": {
   "codemirror_mode": {
    "name": "ipython",
    "version": 3
   },
   "file_extension": ".py",
   "mimetype": "text/x-python",
   "name": "python",
   "nbconvert_exporter": "python",
   "pygments_lexer": "ipython3",
   "version": "3.9.20"
  }
 },
 "nbformat": 4,
 "nbformat_minor": 2
}
